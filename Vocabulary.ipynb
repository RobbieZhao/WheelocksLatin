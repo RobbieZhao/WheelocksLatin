{
 "cells": [
  {
   "cell_type": "code",
   "execution_count": 5,
   "metadata": {},
   "outputs": [],
   "source": [
    "from lxml import etree\n",
    "import requests\n",
    "import time\n",
    "import os"
   ]
  },
  {
   "cell_type": "code",
   "execution_count": 6,
   "metadata": {},
   "outputs": [],
   "source": [
    "url = 'http://www.wheelockslatin.com/chapters/eight/index.html'"
   ]
  },
  {
   "cell_type": "code",
   "execution_count": 7,
   "metadata": {},
   "outputs": [],
   "source": [
    "r = requests.get(url)"
   ]
  },
  {
   "cell_type": "code",
   "execution_count": 8,
   "metadata": {},
   "outputs": [],
   "source": [
    "tree = etree.HTML(r.text)\n",
    "semi_links = tree.xpath('//font/table[contains(@class,\"Alt\")]//a/@href')"
   ]
  },
  {
   "cell_type": "code",
   "execution_count": 9,
   "metadata": {},
   "outputs": [
    {
     "name": "stdout",
     "output_type": "stream",
     "text": [
      "cicero_SOUND12.MP3\n",
      "copia.mp3\n",
      "copiae.mp3\n",
      "frater.mp3\n",
      "laus.mp3\n",
      "libertas.mp3\n",
      "ratio.mp3\n",
      "scriptor.mp3\n",
      "soror.mp3\n",
      "victoria.mp3\n",
      "dum.mp3\n",
      "ad_SOUND12.MP3\n",
      "ex.mp3\n",
      "numquam.mp3\n",
      "tamen.mp3\n",
      "ago.mp3\n",
      "gratiasagere.mp3\n",
      "demonstro.mp3\n",
      "disco.mp3\n",
      "doceo.mp3\n",
      "duco.mp3\n",
      "gero.mp3\n",
      "scribo.mp3\n",
      "traho.mp3\n",
      "vinco.mp3\n"
     ]
    }
   ],
   "source": [
    "files = []\n",
    "for semi_link in semi_links:\n",
    "    if semi_link.startswith(\"..\"):\n",
    "        link = \"http://www.wheelockslatin.com/chapters/\" + semi_link[3:]\n",
    "    else:\n",
    "        link = \"http://www.wheelockslatin.com/chapters/eight/\" + semi_link\n",
    "        \n",
    "    r = requests.get(link)\n",
    "    \n",
    "    file = os.path.basename(link)\n",
    "    files.append(file)\n",
    "    \n",
    "    with open(file, 'wb') as f:\n",
    "        f.write(r.content)\n",
    "        print(file)\n",
    "    \n",
    "    time.sleep(1)"
   ]
  },
  {
   "cell_type": "markdown",
   "metadata": {},
   "source": [
    "https://stackoverflow.com/questions/2952309/python-library-to-split-and-join-mp3-files\n",
    "\n",
    "You might wanna `brew install ffmpeg`"
   ]
  },
  {
   "cell_type": "code",
   "execution_count": 10,
   "metadata": {},
   "outputs": [],
   "source": [
    "from pydub import AudioSegment"
   ]
  },
  {
   "cell_type": "code",
   "execution_count": 11,
   "metadata": {},
   "outputs": [],
   "source": [
    "three_sec_silence = AudioSegment.silent(duration=3000)\n",
    "five_sec_silence = AudioSegment.silent(duration=5000)"
   ]
  },
  {
   "cell_type": "code",
   "execution_count": 12,
   "metadata": {},
   "outputs": [],
   "source": [
    "sounds = five_sec_silence"
   ]
  },
  {
   "cell_type": "code",
   "execution_count": 13,
   "metadata": {},
   "outputs": [],
   "source": [
    "for file in files:\n",
    "    sound = AudioSegment.from_mp3(file)\n",
    "    \n",
    "    sounds += sound\n",
    "    sounds += three_sec_silence\n",
    "    sounds += sound\n",
    "    sounds += three_sec_silence"
   ]
  },
  {
   "cell_type": "code",
   "execution_count": 14,
   "metadata": {},
   "outputs": [],
   "source": [
    "sounds += five_sec_silence"
   ]
  },
  {
   "cell_type": "code",
   "execution_count": 15,
   "metadata": {},
   "outputs": [
    {
     "data": {
      "text/plain": [
       "<_io.BufferedRandom name='eight.mp3'>"
      ]
     },
     "execution_count": 15,
     "metadata": {},
     "output_type": "execute_result"
    }
   ],
   "source": [
    "sounds.export(\"eight.mp3\", format=\"mp3\")"
   ]
  },
  {
   "cell_type": "code",
   "execution_count": null,
   "metadata": {},
   "outputs": [],
   "source": []
  }
 ],
 "metadata": {
  "kernelspec": {
   "display_name": "Python 3",
   "language": "python",
   "name": "python3"
  },
  "language_info": {
   "codemirror_mode": {
    "name": "ipython",
    "version": 3
   },
   "file_extension": ".py",
   "mimetype": "text/x-python",
   "name": "python",
   "nbconvert_exporter": "python",
   "pygments_lexer": "ipython3",
   "version": "3.9.1"
  }
 },
 "nbformat": 4,
 "nbformat_minor": 4
}
